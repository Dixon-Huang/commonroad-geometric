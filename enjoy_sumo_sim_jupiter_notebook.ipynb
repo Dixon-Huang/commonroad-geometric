{
 "cells": [
  {
   "cell_type": "code",
   "execution_count": 20,
   "id": "initial_id",
   "metadata": {
    "ExecuteTime": {
     "end_time": "2024-03-12T13:00:17.553591Z",
     "start_time": "2024-03-12T13:00:17.550909Z"
    }
   },
   "outputs": [],
   "source": [
    "import os \n",
    "os.environ['SUMO_HOME'] = '~/anaconda3/envs/crgeo-3.10-cpu/lib/python3.10/site-packages/sumo/'\n",
    "\n",
    "from tutorials import enjoy_sumo_simulation"
   ]
  },
  {
   "cell_type": "code",
   "execution_count": 21,
   "id": "a929b7f62b2520bd",
   "metadata": {
    "ExecuteTime": {
     "end_time": "2024-03-12T13:00:23.864316Z",
     "start_time": "2024-03-12T13:00:20.054265Z"
    }
   },
   "outputs": [
    {
     "name": "stderr",
     "output_type": "stream",
     "text": [
      "2024-03-12 14:00:20 Initializing SUMO simulation\n",
      "2024-03-12 14:00:20 Initializing SUMO simulation\n",
      "2024-03-12 14:00:20 Initializing SUMO simulation\n",
      "Warning: Environment variable SUMO_HOME is not set properly, disabling XML validation. Set 'auto' or 'always' for web lookups.\n",
      "Warning: Environment variable SUMO_HOME is not set properly, disabling XML validation. Set 'auto' or 'always' for web lookups.\n",
      "Warning: Environment variable SUMO_HOME is not set properly, disabling XML validation. Set 'auto' or 'always' for web lookups.\n",
      "Warning: Environment variable SUMO_HOME is not set properly, disabling XML validation. Set 'auto' or 'always' for web lookups.\n"
     ]
    },
    {
     "name": "stdout",
     "output_type": "stream",
     "text": [
      " Retrying in 1 seconds\n"
     ]
    },
    {
     "name": "stderr",
     "output_type": "stream",
     "text": [
      "2024-03-12 14:00:21 Starting SUMO presimulation with option 0\n",
      "2024-03-12 14:00:21 Starting SUMO presimulation with option 0\n",
      "2024-03-12 14:00:21 Starting SUMO presimulation with option 0\n",
      "2024-03-12 14:00:21 Presimulation with option 0 completed, took 0 steps\n",
      "2024-03-12 14:00:21 Presimulation with option 0 completed, took 0 steps\n",
      "2024-03-12 14:00:21 Presimulation with option 0 completed, took 0 steps\n"
     ]
    },
    {
     "name": "stdout",
     "output_type": "stream",
     "text": [
      "Step #4.04 (0ms ?*RT. ?UPS, TraCI: 25ms, vehicles TOT 6 ACT 6 BUF 1)                              \r\n"
     ]
    }
   ],
   "source": [
    "enjoy_sumo_simulation.enjoy(max_timesteps=100)"
   ]
  }
 ],
 "metadata": {
  "kernelspec": {
   "display_name": "Python 3 (ipykernel)",
   "language": "python",
   "name": "python3"
  },
  "language_info": {
   "codemirror_mode": {
    "name": "ipython",
    "version": 3
   },
   "file_extension": ".py",
   "mimetype": "text/x-python",
   "name": "python",
   "nbconvert_exporter": "python",
   "pygments_lexer": "ipython3",
   "version": "3.10.13"
  }
 },
 "nbformat": 4,
 "nbformat_minor": 5
}
